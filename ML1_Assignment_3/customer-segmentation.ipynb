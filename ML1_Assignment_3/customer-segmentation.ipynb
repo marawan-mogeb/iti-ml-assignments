{
 "cells": [
  {
   "cell_type": "markdown",
   "metadata": {
    "id": "vanlVFPWGGt-"
   },
   "source": [
    "## Importing libraries"
   ]
  },
  {
   "cell_type": "code",
   "execution_count": 2,
   "metadata": {
    "ExecuteTime": {
     "end_time": "2023-04-09T16:40:46.228218Z",
     "start_time": "2023-04-09T16:40:43.610291Z"
    },
    "execution": {
     "iopub.execute_input": "2023-11-09T18:20:37.746261Z",
     "iopub.status.busy": "2023-11-09T18:20:37.745897Z",
     "iopub.status.idle": "2023-11-09T18:20:41.07503Z",
     "shell.execute_reply": "2023-11-09T18:20:41.074244Z",
     "shell.execute_reply.started": "2023-11-09T18:20:37.746209Z"
    },
    "executionInfo": {
     "elapsed": 3207,
     "status": "ok",
     "timestamp": 1753606607663,
     "user": {
      "displayName": "Noha MoAmary",
      "userId": "07429745655130345740"
     },
     "user_tz": -180
    },
    "id": "zDjE_vzvGGuA",
    "trusted": true
   },
   "outputs": [],
   "source": [
    "import pandas as pd\n",
    "import matplotlib.pyplot as plt\n",
    "import seaborn as sns\n",
    "from sklearn.cluster import KMeans\n"
   ]
  },
  {
   "cell_type": "code",
   "execution_count": 3,
   "metadata": {
    "ExecuteTime": {
     "end_time": "2023-04-09T16:40:46.258987Z",
     "start_time": "2023-04-09T16:40:46.230253Z"
    },
    "colab": {
     "base_uri": "https://localhost:8080/",
     "height": 423
    },
    "execution": {
     "iopub.execute_input": "2023-11-09T18:20:41.077167Z",
     "iopub.status.busy": "2023-11-09T18:20:41.076591Z",
     "iopub.status.idle": "2023-11-09T18:20:41.123672Z",
     "shell.execute_reply": "2023-11-09T18:20:41.122906Z",
     "shell.execute_reply.started": "2023-11-09T18:20:41.077142Z"
    },
    "executionInfo": {
     "elapsed": 118,
     "status": "ok",
     "timestamp": 1753606607779,
     "user": {
      "displayName": "Noha MoAmary",
      "userId": "07429745655130345740"
     },
     "user_tz": -180
    },
    "id": "FaY6XvYHGGuB",
    "outputId": "61f1045b-a410-4a51-933b-e2d28825e744",
    "trusted": true
   },
   "outputs": [
    {
     "data": {
      "text/html": [
       "<div>\n",
       "<style scoped>\n",
       "    .dataframe tbody tr th:only-of-type {\n",
       "        vertical-align: middle;\n",
       "    }\n",
       "\n",
       "    .dataframe tbody tr th {\n",
       "        vertical-align: top;\n",
       "    }\n",
       "\n",
       "    .dataframe thead th {\n",
       "        text-align: right;\n",
       "    }\n",
       "</style>\n",
       "<table border=\"1\" class=\"dataframe\">\n",
       "  <thead>\n",
       "    <tr style=\"text-align: right;\">\n",
       "      <th></th>\n",
       "      <th>CustomerID</th>\n",
       "      <th>Gender</th>\n",
       "      <th>Age</th>\n",
       "      <th>Annual Income (k$)</th>\n",
       "      <th>Spending Score (1-100)</th>\n",
       "    </tr>\n",
       "  </thead>\n",
       "  <tbody>\n",
       "    <tr>\n",
       "      <th>0</th>\n",
       "      <td>1</td>\n",
       "      <td>Male</td>\n",
       "      <td>19</td>\n",
       "      <td>15</td>\n",
       "      <td>39</td>\n",
       "    </tr>\n",
       "    <tr>\n",
       "      <th>1</th>\n",
       "      <td>2</td>\n",
       "      <td>Male</td>\n",
       "      <td>21</td>\n",
       "      <td>15</td>\n",
       "      <td>81</td>\n",
       "    </tr>\n",
       "    <tr>\n",
       "      <th>2</th>\n",
       "      <td>3</td>\n",
       "      <td>Female</td>\n",
       "      <td>20</td>\n",
       "      <td>16</td>\n",
       "      <td>6</td>\n",
       "    </tr>\n",
       "    <tr>\n",
       "      <th>3</th>\n",
       "      <td>4</td>\n",
       "      <td>Female</td>\n",
       "      <td>23</td>\n",
       "      <td>16</td>\n",
       "      <td>77</td>\n",
       "    </tr>\n",
       "    <tr>\n",
       "      <th>4</th>\n",
       "      <td>5</td>\n",
       "      <td>Female</td>\n",
       "      <td>31</td>\n",
       "      <td>17</td>\n",
       "      <td>40</td>\n",
       "    </tr>\n",
       "    <tr>\n",
       "      <th>...</th>\n",
       "      <td>...</td>\n",
       "      <td>...</td>\n",
       "      <td>...</td>\n",
       "      <td>...</td>\n",
       "      <td>...</td>\n",
       "    </tr>\n",
       "    <tr>\n",
       "      <th>195</th>\n",
       "      <td>196</td>\n",
       "      <td>Female</td>\n",
       "      <td>35</td>\n",
       "      <td>120</td>\n",
       "      <td>79</td>\n",
       "    </tr>\n",
       "    <tr>\n",
       "      <th>196</th>\n",
       "      <td>197</td>\n",
       "      <td>Female</td>\n",
       "      <td>45</td>\n",
       "      <td>126</td>\n",
       "      <td>28</td>\n",
       "    </tr>\n",
       "    <tr>\n",
       "      <th>197</th>\n",
       "      <td>198</td>\n",
       "      <td>Male</td>\n",
       "      <td>32</td>\n",
       "      <td>126</td>\n",
       "      <td>74</td>\n",
       "    </tr>\n",
       "    <tr>\n",
       "      <th>198</th>\n",
       "      <td>199</td>\n",
       "      <td>Male</td>\n",
       "      <td>32</td>\n",
       "      <td>137</td>\n",
       "      <td>18</td>\n",
       "    </tr>\n",
       "    <tr>\n",
       "      <th>199</th>\n",
       "      <td>200</td>\n",
       "      <td>Male</td>\n",
       "      <td>30</td>\n",
       "      <td>137</td>\n",
       "      <td>83</td>\n",
       "    </tr>\n",
       "  </tbody>\n",
       "</table>\n",
       "<p>200 rows × 5 columns</p>\n",
       "</div>"
      ],
      "text/plain": [
       "     CustomerID  Gender  Age  Annual Income (k$)  Spending Score (1-100)\n",
       "0             1    Male   19                  15                      39\n",
       "1             2    Male   21                  15                      81\n",
       "2             3  Female   20                  16                       6\n",
       "3             4  Female   23                  16                      77\n",
       "4             5  Female   31                  17                      40\n",
       "..          ...     ...  ...                 ...                     ...\n",
       "195         196  Female   35                 120                      79\n",
       "196         197  Female   45                 126                      28\n",
       "197         198    Male   32                 126                      74\n",
       "198         199    Male   32                 137                      18\n",
       "199         200    Male   30                 137                      83\n",
       "\n",
       "[200 rows x 5 columns]"
      ]
     },
     "execution_count": 3,
     "metadata": {},
     "output_type": "execute_result"
    }
   ],
   "source": [
    "df = pd.read_csv('Mall_Customers.csv')\n",
    "df"
   ]
  },
  {
   "cell_type": "markdown",
   "metadata": {
    "id": "4oJ1ihhvGGuB"
   },
   "source": [
    "## Explore"
   ]
  },
  {
   "cell_type": "code",
   "execution_count": 4,
   "metadata": {
    "ExecuteTime": {
     "end_time": "2023-04-09T16:40:46.289663Z",
     "start_time": "2023-04-09T16:40:46.260983Z"
    },
    "colab": {
     "base_uri": "https://localhost:8080/",
     "height": 300
    },
    "execution": {
     "iopub.execute_input": "2023-11-09T18:20:41.125447Z",
     "iopub.status.busy": "2023-11-09T18:20:41.124969Z",
     "iopub.status.idle": "2023-11-09T18:20:41.146595Z",
     "shell.execute_reply": "2023-11-09T18:20:41.144842Z",
     "shell.execute_reply.started": "2023-11-09T18:20:41.12542Z"
    },
    "executionInfo": {
     "elapsed": 428,
     "status": "ok",
     "timestamp": 1753606614946,
     "user": {
      "displayName": "Noha MoAmary",
      "userId": "07429745655130345740"
     },
     "user_tz": -180
    },
    "id": "uigM83rdGGuB",
    "outputId": "ac3a63e5-955a-44b0-eced-7d4872f9005f",
    "trusted": true
   },
   "outputs": [
    {
     "data": {
      "text/html": [
       "<div>\n",
       "<style scoped>\n",
       "    .dataframe tbody tr th:only-of-type {\n",
       "        vertical-align: middle;\n",
       "    }\n",
       "\n",
       "    .dataframe tbody tr th {\n",
       "        vertical-align: top;\n",
       "    }\n",
       "\n",
       "    .dataframe thead th {\n",
       "        text-align: right;\n",
       "    }\n",
       "</style>\n",
       "<table border=\"1\" class=\"dataframe\">\n",
       "  <thead>\n",
       "    <tr style=\"text-align: right;\">\n",
       "      <th></th>\n",
       "      <th>CustomerID</th>\n",
       "      <th>Age</th>\n",
       "      <th>Annual Income (k$)</th>\n",
       "      <th>Spending Score (1-100)</th>\n",
       "    </tr>\n",
       "  </thead>\n",
       "  <tbody>\n",
       "    <tr>\n",
       "      <th>count</th>\n",
       "      <td>200.000000</td>\n",
       "      <td>200.000000</td>\n",
       "      <td>200.000000</td>\n",
       "      <td>200.000000</td>\n",
       "    </tr>\n",
       "    <tr>\n",
       "      <th>mean</th>\n",
       "      <td>100.500000</td>\n",
       "      <td>38.850000</td>\n",
       "      <td>60.560000</td>\n",
       "      <td>50.200000</td>\n",
       "    </tr>\n",
       "    <tr>\n",
       "      <th>std</th>\n",
       "      <td>57.879185</td>\n",
       "      <td>13.969007</td>\n",
       "      <td>26.264721</td>\n",
       "      <td>25.823522</td>\n",
       "    </tr>\n",
       "    <tr>\n",
       "      <th>min</th>\n",
       "      <td>1.000000</td>\n",
       "      <td>18.000000</td>\n",
       "      <td>15.000000</td>\n",
       "      <td>1.000000</td>\n",
       "    </tr>\n",
       "    <tr>\n",
       "      <th>25%</th>\n",
       "      <td>50.750000</td>\n",
       "      <td>28.750000</td>\n",
       "      <td>41.500000</td>\n",
       "      <td>34.750000</td>\n",
       "    </tr>\n",
       "    <tr>\n",
       "      <th>50%</th>\n",
       "      <td>100.500000</td>\n",
       "      <td>36.000000</td>\n",
       "      <td>61.500000</td>\n",
       "      <td>50.000000</td>\n",
       "    </tr>\n",
       "    <tr>\n",
       "      <th>75%</th>\n",
       "      <td>150.250000</td>\n",
       "      <td>49.000000</td>\n",
       "      <td>78.000000</td>\n",
       "      <td>73.000000</td>\n",
       "    </tr>\n",
       "    <tr>\n",
       "      <th>max</th>\n",
       "      <td>200.000000</td>\n",
       "      <td>70.000000</td>\n",
       "      <td>137.000000</td>\n",
       "      <td>99.000000</td>\n",
       "    </tr>\n",
       "  </tbody>\n",
       "</table>\n",
       "</div>"
      ],
      "text/plain": [
       "       CustomerID         Age  Annual Income (k$)  Spending Score (1-100)\n",
       "count  200.000000  200.000000          200.000000              200.000000\n",
       "mean   100.500000   38.850000           60.560000               50.200000\n",
       "std     57.879185   13.969007           26.264721               25.823522\n",
       "min      1.000000   18.000000           15.000000                1.000000\n",
       "25%     50.750000   28.750000           41.500000               34.750000\n",
       "50%    100.500000   36.000000           61.500000               50.000000\n",
       "75%    150.250000   49.000000           78.000000               73.000000\n",
       "max    200.000000   70.000000          137.000000               99.000000"
      ]
     },
     "execution_count": 4,
     "metadata": {},
     "output_type": "execute_result"
    }
   ],
   "source": [
    "df.describe()"
   ]
  },
  {
   "cell_type": "code",
   "execution_count": 5,
   "metadata": {
    "ExecuteTime": {
     "end_time": "2023-04-09T16:40:46.305193Z",
     "start_time": "2023-04-09T16:40:46.293083Z"
    },
    "colab": {
     "base_uri": "https://localhost:8080/"
    },
    "execution": {
     "iopub.execute_input": "2023-11-09T18:20:41.149544Z",
     "iopub.status.busy": "2023-11-09T18:20:41.149018Z",
     "iopub.status.idle": "2023-11-09T18:20:41.185284Z",
     "shell.execute_reply": "2023-11-09T18:20:41.183958Z",
     "shell.execute_reply.started": "2023-11-09T18:20:41.149517Z"
    },
    "executionInfo": {
     "elapsed": 805,
     "status": "ok",
     "timestamp": 1753606616081,
     "user": {
      "displayName": "Noha MoAmary",
      "userId": "07429745655130345740"
     },
     "user_tz": -180
    },
    "id": "T_N3zxELGGuB",
    "outputId": "f785cc09-440d-43ca-d17a-380bdaf27591",
    "trusted": true
   },
   "outputs": [
    {
     "name": "stdout",
     "output_type": "stream",
     "text": [
      "<class 'pandas.core.frame.DataFrame'>\n",
      "RangeIndex: 200 entries, 0 to 199\n",
      "Data columns (total 5 columns):\n",
      " #   Column                  Non-Null Count  Dtype \n",
      "---  ------                  --------------  ----- \n",
      " 0   CustomerID              200 non-null    int64 \n",
      " 1   Gender                  200 non-null    object\n",
      " 2   Age                     200 non-null    int64 \n",
      " 3   Annual Income (k$)      200 non-null    int64 \n",
      " 4   Spending Score (1-100)  200 non-null    int64 \n",
      "dtypes: int64(4), object(1)\n",
      "memory usage: 7.9+ KB\n"
     ]
    }
   ],
   "source": [
    "df.info()"
   ]
  },
  {
   "cell_type": "code",
   "execution_count": 6,
   "metadata": {
    "ExecuteTime": {
     "end_time": "2023-04-09T16:40:46.320525Z",
     "start_time": "2023-04-09T16:40:46.307202Z"
    },
    "colab": {
     "base_uri": "https://localhost:8080/",
     "height": 423
    },
    "execution": {
     "iopub.execute_input": "2023-11-09T18:20:41.187047Z",
     "iopub.status.busy": "2023-11-09T18:20:41.186706Z",
     "iopub.status.idle": "2023-11-09T18:20:41.212945Z",
     "shell.execute_reply": "2023-11-09T18:20:41.211977Z",
     "shell.execute_reply.started": "2023-11-09T18:20:41.18702Z"
    },
    "executionInfo": {
     "elapsed": 419,
     "status": "ok",
     "timestamp": 1753606629406,
     "user": {
      "displayName": "Noha MoAmary",
      "userId": "07429745655130345740"
     },
     "user_tz": -180
    },
    "id": "2pfny3AVGGuC",
    "outputId": "7ab0af87-3187-47fa-ed35-7e79f3ade476",
    "trusted": true
   },
   "outputs": [
    {
     "data": {
      "text/html": [
       "<div>\n",
       "<style scoped>\n",
       "    .dataframe tbody tr th:only-of-type {\n",
       "        vertical-align: middle;\n",
       "    }\n",
       "\n",
       "    .dataframe tbody tr th {\n",
       "        vertical-align: top;\n",
       "    }\n",
       "\n",
       "    .dataframe thead th {\n",
       "        text-align: right;\n",
       "    }\n",
       "</style>\n",
       "<table border=\"1\" class=\"dataframe\">\n",
       "  <thead>\n",
       "    <tr style=\"text-align: right;\">\n",
       "      <th></th>\n",
       "      <th>CustomerID</th>\n",
       "      <th>Gender</th>\n",
       "      <th>Age</th>\n",
       "      <th>Annual Income (k$)</th>\n",
       "      <th>Spending Score (1-100)</th>\n",
       "    </tr>\n",
       "  </thead>\n",
       "  <tbody>\n",
       "    <tr>\n",
       "      <th>1</th>\n",
       "      <td>2</td>\n",
       "      <td>Male</td>\n",
       "      <td>21</td>\n",
       "      <td>15</td>\n",
       "      <td>81</td>\n",
       "    </tr>\n",
       "    <tr>\n",
       "      <th>3</th>\n",
       "      <td>4</td>\n",
       "      <td>Female</td>\n",
       "      <td>23</td>\n",
       "      <td>16</td>\n",
       "      <td>77</td>\n",
       "    </tr>\n",
       "    <tr>\n",
       "      <th>5</th>\n",
       "      <td>6</td>\n",
       "      <td>Female</td>\n",
       "      <td>22</td>\n",
       "      <td>17</td>\n",
       "      <td>76</td>\n",
       "    </tr>\n",
       "    <tr>\n",
       "      <th>7</th>\n",
       "      <td>8</td>\n",
       "      <td>Female</td>\n",
       "      <td>23</td>\n",
       "      <td>18</td>\n",
       "      <td>94</td>\n",
       "    </tr>\n",
       "    <tr>\n",
       "      <th>9</th>\n",
       "      <td>10</td>\n",
       "      <td>Female</td>\n",
       "      <td>30</td>\n",
       "      <td>19</td>\n",
       "      <td>72</td>\n",
       "    </tr>\n",
       "    <tr>\n",
       "      <th>...</th>\n",
       "      <td>...</td>\n",
       "      <td>...</td>\n",
       "      <td>...</td>\n",
       "      <td>...</td>\n",
       "      <td>...</td>\n",
       "    </tr>\n",
       "    <tr>\n",
       "      <th>191</th>\n",
       "      <td>192</td>\n",
       "      <td>Female</td>\n",
       "      <td>32</td>\n",
       "      <td>103</td>\n",
       "      <td>69</td>\n",
       "    </tr>\n",
       "    <tr>\n",
       "      <th>193</th>\n",
       "      <td>194</td>\n",
       "      <td>Female</td>\n",
       "      <td>38</td>\n",
       "      <td>113</td>\n",
       "      <td>91</td>\n",
       "    </tr>\n",
       "    <tr>\n",
       "      <th>195</th>\n",
       "      <td>196</td>\n",
       "      <td>Female</td>\n",
       "      <td>35</td>\n",
       "      <td>120</td>\n",
       "      <td>79</td>\n",
       "    </tr>\n",
       "    <tr>\n",
       "      <th>197</th>\n",
       "      <td>198</td>\n",
       "      <td>Male</td>\n",
       "      <td>32</td>\n",
       "      <td>126</td>\n",
       "      <td>74</td>\n",
       "    </tr>\n",
       "    <tr>\n",
       "      <th>199</th>\n",
       "      <td>200</td>\n",
       "      <td>Male</td>\n",
       "      <td>30</td>\n",
       "      <td>137</td>\n",
       "      <td>83</td>\n",
       "    </tr>\n",
       "  </tbody>\n",
       "</table>\n",
       "<p>97 rows × 5 columns</p>\n",
       "</div>"
      ],
      "text/plain": [
       "     CustomerID  Gender  Age  Annual Income (k$)  Spending Score (1-100)\n",
       "1             2    Male   21                  15                      81\n",
       "3             4  Female   23                  16                      77\n",
       "5             6  Female   22                  17                      76\n",
       "7             8  Female   23                  18                      94\n",
       "9            10  Female   30                  19                      72\n",
       "..          ...     ...  ...                 ...                     ...\n",
       "191         192  Female   32                 103                      69\n",
       "193         194  Female   38                 113                      91\n",
       "195         196  Female   35                 120                      79\n",
       "197         198    Male   32                 126                      74\n",
       "199         200    Male   30                 137                      83\n",
       "\n",
       "[97 rows x 5 columns]"
      ]
     },
     "execution_count": 6,
     "metadata": {},
     "output_type": "execute_result"
    }
   ],
   "source": [
    "mask = df['Spending Score (1-100)'] > 50\n",
    "df_score = df[mask]\n",
    "df_score"
   ]
  },
  {
   "cell_type": "code",
   "execution_count": 7,
   "metadata": {
    "ExecuteTime": {
     "end_time": "2023-04-09T16:40:46.35023Z",
     "start_time": "2023-04-09T16:40:46.323522Z"
    },
    "colab": {
     "base_uri": "https://localhost:8080/",
     "height": 300
    },
    "execution": {
     "iopub.execute_input": "2023-11-09T18:20:41.214611Z",
     "iopub.status.busy": "2023-11-09T18:20:41.21418Z",
     "iopub.status.idle": "2023-11-09T18:20:41.236776Z",
     "shell.execute_reply": "2023-11-09T18:20:41.235797Z",
     "shell.execute_reply.started": "2023-11-09T18:20:41.214578Z"
    },
    "executionInfo": {
     "elapsed": 215,
     "status": "ok",
     "timestamp": 1753606638108,
     "user": {
      "displayName": "Noha MoAmary",
      "userId": "07429745655130345740"
     },
     "user_tz": -180
    },
    "id": "N3aYFp0FGGuC",
    "outputId": "429c42a5-da9a-479f-82e9-b3f7345356dd",
    "trusted": true
   },
   "outputs": [
    {
     "data": {
      "text/html": [
       "<div>\n",
       "<style scoped>\n",
       "    .dataframe tbody tr th:only-of-type {\n",
       "        vertical-align: middle;\n",
       "    }\n",
       "\n",
       "    .dataframe tbody tr th {\n",
       "        vertical-align: top;\n",
       "    }\n",
       "\n",
       "    .dataframe thead th {\n",
       "        text-align: right;\n",
       "    }\n",
       "</style>\n",
       "<table border=\"1\" class=\"dataframe\">\n",
       "  <thead>\n",
       "    <tr style=\"text-align: right;\">\n",
       "      <th></th>\n",
       "      <th>CustomerID</th>\n",
       "      <th>Age</th>\n",
       "      <th>Annual Income (k$)</th>\n",
       "      <th>Spending Score (1-100)</th>\n",
       "    </tr>\n",
       "  </thead>\n",
       "  <tbody>\n",
       "    <tr>\n",
       "      <th>count</th>\n",
       "      <td>97.000000</td>\n",
       "      <td>97.000000</td>\n",
       "      <td>97.000000</td>\n",
       "      <td>97.000000</td>\n",
       "    </tr>\n",
       "    <tr>\n",
       "      <th>mean</th>\n",
       "      <td>100.298969</td>\n",
       "      <td>34.597938</td>\n",
       "      <td>60.412371</td>\n",
       "      <td>71.670103</td>\n",
       "    </tr>\n",
       "    <tr>\n",
       "      <th>std</th>\n",
       "      <td>59.122783</td>\n",
       "      <td>13.024544</td>\n",
       "      <td>26.756133</td>\n",
       "      <td>14.710910</td>\n",
       "    </tr>\n",
       "    <tr>\n",
       "      <th>min</th>\n",
       "      <td>2.000000</td>\n",
       "      <td>18.000000</td>\n",
       "      <td>15.000000</td>\n",
       "      <td>51.000000</td>\n",
       "    </tr>\n",
       "    <tr>\n",
       "      <th>25%</th>\n",
       "      <td>51.000000</td>\n",
       "      <td>26.000000</td>\n",
       "      <td>42.000000</td>\n",
       "      <td>57.000000</td>\n",
       "    </tr>\n",
       "    <tr>\n",
       "      <th>50%</th>\n",
       "      <td>96.000000</td>\n",
       "      <td>31.000000</td>\n",
       "      <td>60.000000</td>\n",
       "      <td>73.000000</td>\n",
       "    </tr>\n",
       "    <tr>\n",
       "      <th>75%</th>\n",
       "      <td>152.000000</td>\n",
       "      <td>38.000000</td>\n",
       "      <td>78.000000</td>\n",
       "      <td>85.000000</td>\n",
       "    </tr>\n",
       "    <tr>\n",
       "      <th>max</th>\n",
       "      <td>200.000000</td>\n",
       "      <td>70.000000</td>\n",
       "      <td>137.000000</td>\n",
       "      <td>99.000000</td>\n",
       "    </tr>\n",
       "  </tbody>\n",
       "</table>\n",
       "</div>"
      ],
      "text/plain": [
       "       CustomerID        Age  Annual Income (k$)  Spending Score (1-100)\n",
       "count   97.000000  97.000000           97.000000               97.000000\n",
       "mean   100.298969  34.597938           60.412371               71.670103\n",
       "std     59.122783  13.024544           26.756133               14.710910\n",
       "min      2.000000  18.000000           15.000000               51.000000\n",
       "25%     51.000000  26.000000           42.000000               57.000000\n",
       "50%     96.000000  31.000000           60.000000               73.000000\n",
       "75%    152.000000  38.000000           78.000000               85.000000\n",
       "max    200.000000  70.000000          137.000000               99.000000"
      ]
     },
     "execution_count": 7,
     "metadata": {},
     "output_type": "execute_result"
    }
   ],
   "source": [
    "df_score.describe()"
   ]
  },
  {
   "cell_type": "markdown",
   "metadata": {
    "id": "3wAEQ8HyGGuC"
   },
   "source": [
    "## Histogram"
   ]
  },
  {
   "cell_type": "code",
   "execution_count": 8,
   "metadata": {
    "ExecuteTime": {
     "end_time": "2023-04-09T16:40:46.772443Z",
     "start_time": "2023-04-09T16:40:46.35223Z"
    },
    "colab": {
     "base_uri": "https://localhost:8080/",
     "height": 503
    },
    "execution": {
     "iopub.execute_input": "2023-11-09T18:20:41.239079Z",
     "iopub.status.busy": "2023-11-09T18:20:41.238168Z",
     "iopub.status.idle": "2023-11-09T18:20:41.994768Z",
     "shell.execute_reply": "2023-11-09T18:20:41.994065Z",
     "shell.execute_reply.started": "2023-11-09T18:20:41.239054Z"
    },
    "executionInfo": {
     "elapsed": 856,
     "status": "ok",
     "timestamp": 1753606653092,
     "user": {
      "displayName": "Noha MoAmary",
      "userId": "07429745655130345740"
     },
     "user_tz": -180
    },
    "id": "5jtPRy6IGGuC",
    "outputId": "3912f10a-b1b9-4de4-efd9-491c70023521",
    "trusted": true
   },
   "outputs": [
    {
     "data": {
      "image/png": "[encoded data removed]",
      "text/plain": [
       "<Figure size 1500x600 with 3 Axes>"
      ]
     },
     "metadata": {},
     "output_type": "display_data"
    }
   ],
   "source": [
    "plt.figure(figsize = (15 , 6))\n",
    "n = 0\n",
    "for x in ['Age' , 'Annual Income (k$)' , 'Spending Score (1-100)']:\n",
    "    n += 1\n",
    "    plt.subplot(1 , 3 , n)\n",
    "    plt.subplots_adjust(hspace =0.5 , wspace = 0.5)\n",
    "    sns.histplot(df[x] , bins = 20)\n",
    "    plt.title('Distplot of {}'.format(x))\n",
    "plt.show();"
   ]
  },
  {
   "cell_type": "markdown",
   "metadata": {
    "id": "xoHnq0GPGGuC"
   },
   "source": [
    "these features as they have a little skeweenes are tends to be normally distributed"
   ]
  },
  {
   "cell_type": "code",
   "execution_count": 9,
   "metadata": {
    "ExecuteTime": {
     "end_time": "2023-04-09T16:40:46.883048Z",
     "start_time": "2023-04-09T16:40:46.775414Z"
    },
    "colab": {
     "base_uri": "https://localhost:8080/",
     "height": 472
    },
    "execution": {
     "iopub.execute_input": "2023-11-09T18:20:41.996665Z",
     "iopub.status.busy": "2023-11-09T18:20:41.99586Z",
     "iopub.status.idle": "2023-11-09T18:20:42.247217Z",
     "shell.execute_reply": "2023-11-09T18:20:42.245805Z",
     "shell.execute_reply.started": "2023-11-09T18:20:41.996642Z"
    },
    "executionInfo": {
     "elapsed": 1625,
     "status": "ok",
     "timestamp": 1753606676868,
     "user": {
      "displayName": "Noha MoAmary",
      "userId": "07429745655130345740"
     },
     "user_tz": -180
    },
    "id": "AZMJQ8MGGGuD",
    "outputId": "3178de94-9872-45aa-db79-804aeafeb161",
    "trusted": true
   },
   "outputs": [
    {
     "data": {
      "image/png": "[encoded data removed]",
      "text/plain": [
       "<Figure size 640x480 with 1 Axes>"
      ]
     },
     "metadata": {},
     "output_type": "display_data"
    }
   ],
   "source": [
    "df_score['Age'].hist()\n",
    "plt.xlabel('Age')\n",
    "plt.ylabel('Count')\n",
    "plt.title('Spending Score(51 ~ 100): Age Distribution');"
   ]
  },
  {
   "cell_type": "markdown",
   "metadata": {
    "id": "5Jl8NHd0GGuD"
   },
   "source": [
    "Our histogram is telling us that  many of people who have spending score greater than 50 are younger."
   ]
  },
  {
   "cell_type": "markdown",
   "metadata": {
    "id": "p9XotdU9GGuD"
   },
   "source": [
    "## Count Plot Of Gender"
   ]
  },
  {
   "cell_type": "code",
   "execution_count": 10,
   "metadata": {
    "ExecuteTime": {
     "end_time": "2023-04-09T16:40:46.962048Z",
     "start_time": "2023-04-09T16:40:46.886046Z"
    },
    "execution": {
     "iopub.execute_input": "2023-11-09T18:20:42.248906Z",
     "iopub.status.busy": "2023-11-09T18:20:42.248612Z",
     "iopub.status.idle": "2023-11-09T18:20:42.425357Z",
     "shell.execute_reply": "2023-11-09T18:20:42.42446Z",
     "shell.execute_reply.started": "2023-11-09T18:20:42.24888Z"
    },
    "executionInfo": {
     "elapsed": 826,
     "status": "ok",
     "timestamp": 1753606760496,
     "user": {
      "displayName": "Noha MoAmary",
      "userId": "07429745655130345740"
     },
     "user_tz": -180
    },
    "id": "foj9n82iGGuD",
    "trusted": true
   },
   "outputs": [
    {
     "data": {
      "image/png": "[encoded data removed]",
      "text/plain": [
       "<Figure size 640x480 with 1 Axes>"
      ]
     },
     "metadata": {},
     "output_type": "display_data"
    }
   ],
   "source": [
    "#Q1 plot the gender for spending more than 50\n",
    "sns.countplot(x='Gender', data=df_score)\n",
    "plt.title(\"Gender Distribution (Spending Score > 50)\")\n",
    "plt.xlabel(\"Gender\")\n",
    "plt.ylabel(\"Count\")\n",
    "plt.show()"
   ]
  },
  {
   "cell_type": "code",
   "execution_count": 11,
   "metadata": {
    "ExecuteTime": {
     "end_time": "2023-04-09T16:40:47.057476Z",
     "start_time": "2023-04-09T16:40:46.966132Z"
    },
    "execution": {
     "iopub.execute_input": "2023-11-09T18:20:42.434487Z",
     "iopub.status.busy": "2023-11-09T18:20:42.431524Z",
     "iopub.status.idle": "2023-11-09T18:20:42.638692Z",
     "shell.execute_reply": "2023-11-09T18:20:42.637635Z",
     "shell.execute_reply.started": "2023-11-09T18:20:42.434445Z"
    },
    "executionInfo": {
     "elapsed": 16,
     "status": "ok",
     "timestamp": 1753606806826,
     "user": {
      "displayName": "Noha MoAmary",
      "userId": "07429745655130345740"
     },
     "user_tz": -180
    },
    "id": "AzMH0v9eGGuD",
    "trusted": true
   },
   "outputs": [
    {
     "data": {
      "image/png": "[encoded data removed]",
      "text/plain": [
       "<Figure size 640x480 with 1 Axes>"
      ]
     },
     "metadata": {},
     "output_type": "display_data"
    }
   ],
   "source": [
    "#Q2 plot the gender distribution across the entire data\n",
    "sns.countplot(x='Gender', data=df)\n",
    "plt.title(\"Gender Distribution (All Customers)\")\n",
    "plt.xlabel(\"Gender\")\n",
    "plt.ylabel(\"Count\")\n",
    "plt.show()"
   ]
  },
  {
   "cell_type": "code",
   "execution_count": null,
   "metadata": {
    "ExecuteTime": {
     "end_time": "2023-04-09T16:40:49.357291Z",
     "start_time": "2023-04-09T16:40:49.03159Z"
    },
    "execution": {
     "iopub.execute_input": "2023-11-09T18:20:45.089205Z",
     "iopub.status.busy": "2023-11-09T18:20:45.08867Z",
     "iopub.status.idle": "2023-11-09T18:20:46.569097Z",
     "shell.execute_reply": "2023-11-09T18:20:46.568148Z",
     "shell.execute_reply.started": "2023-11-09T18:20:45.089177Z"
    },
    "executionInfo": {
     "elapsed": 7,
     "status": "ok",
     "timestamp": 1753606869593,
     "user": {
      "displayName": "Noha MoAmary",
      "userId": "07429745655130345740"
     },
     "user_tz": -180
    },
    "id": "LxsGkTE5GGuE",
    "trusted": true
   },
   "outputs": [],
   "source": []
  },
  {
   "cell_type": "markdown",
   "metadata": {
    "id": "H8g27muKGGuE"
   },
   "source": [
    "## Split"
   ]
  },
  {
   "cell_type": "code",
   "execution_count": 12,
   "metadata": {
    "ExecuteTime": {
     "end_time": "2023-04-09T16:40:49.373347Z",
     "start_time": "2023-04-09T16:40:49.359283Z"
    },
    "colab": {
     "base_uri": "https://localhost:8080/",
     "height": 225
    },
    "execution": {
     "iopub.execute_input": "2023-11-09T18:20:46.571441Z",
     "iopub.status.busy": "2023-11-09T18:20:46.570304Z",
     "iopub.status.idle": "2023-11-09T18:20:46.582868Z",
     "shell.execute_reply": "2023-11-09T18:20:46.58192Z",
     "shell.execute_reply.started": "2023-11-09T18:20:46.571405Z"
    },
    "executionInfo": {
     "elapsed": 74,
     "status": "ok",
     "timestamp": 1753606885578,
     "user": {
      "displayName": "Noha MoAmary",
      "userId": "07429745655130345740"
     },
     "user_tz": -180
    },
    "id": "ROyEiSrtGGuE",
    "outputId": "918938b5-6d7b-4158-df31-c34ac4725f93",
    "trusted": true
   },
   "outputs": [
    {
     "name": "stdout",
     "output_type": "stream",
     "text": [
      "X Shape (200, 2)\n"
     ]
    },
    {
     "data": {
      "text/html": [
       "<div>\n",
       "<style scoped>\n",
       "    .dataframe tbody tr th:only-of-type {\n",
       "        vertical-align: middle;\n",
       "    }\n",
       "\n",
       "    .dataframe tbody tr th {\n",
       "        vertical-align: top;\n",
       "    }\n",
       "\n",
       "    .dataframe thead th {\n",
       "        text-align: right;\n",
       "    }\n",
       "</style>\n",
       "<table border=\"1\" class=\"dataframe\">\n",
       "  <thead>\n",
       "    <tr style=\"text-align: right;\">\n",
       "      <th></th>\n",
       "      <th>Annual Income (k$)</th>\n",
       "      <th>Spending Score (1-100)</th>\n",
       "    </tr>\n",
       "  </thead>\n",
       "  <tbody>\n",
       "    <tr>\n",
       "      <th>0</th>\n",
       "      <td>15</td>\n",
       "      <td>39</td>\n",
       "    </tr>\n",
       "    <tr>\n",
       "      <th>1</th>\n",
       "      <td>15</td>\n",
       "      <td>81</td>\n",
       "    </tr>\n",
       "    <tr>\n",
       "      <th>2</th>\n",
       "      <td>16</td>\n",
       "      <td>6</td>\n",
       "    </tr>\n",
       "    <tr>\n",
       "      <th>3</th>\n",
       "      <td>16</td>\n",
       "      <td>77</td>\n",
       "    </tr>\n",
       "    <tr>\n",
       "      <th>4</th>\n",
       "      <td>17</td>\n",
       "      <td>40</td>\n",
       "    </tr>\n",
       "  </tbody>\n",
       "</table>\n",
       "</div>"
      ],
      "text/plain": [
       "   Annual Income (k$)  Spending Score (1-100)\n",
       "0                  15                      39\n",
       "1                  15                      81\n",
       "2                  16                       6\n",
       "3                  16                      77\n",
       "4                  17                      40"
      ]
     },
     "execution_count": 12,
     "metadata": {},
     "output_type": "execute_result"
    }
   ],
   "source": [
    "X = df.iloc[: , [3,4]]\n",
    "print(f\"X Shape {X.shape}\")\n",
    "X.head()"
   ]
  },
  {
   "cell_type": "markdown",
   "metadata": {
    "id": "-mv6NSwEGGuE"
   },
   "source": [
    "## Clustring Using K-Means"
   ]
  },
  {
   "cell_type": "code",
   "execution_count": 13,
   "metadata": {
    "executionInfo": {
     "elapsed": 4,
     "status": "ok",
     "timestamp": 1753607265263,
     "user": {
      "displayName": "Noha MoAmary",
      "userId": "07429745655130345740"
     },
     "user_tz": -180
    },
    "id": "4SwUC9KyIKpK"
   },
   "outputs": [
    {
     "data": {
      "image/png": "[encoded data removed]",
      "text/plain": [
       "<Figure size 800x500 with 1 Axes>"
      ]
     },
     "metadata": {},
     "output_type": "display_data"
    }
   ],
   "source": [
    "# the elbow to determin K\n",
    "# Elbow method: Try k from 1 to 10 and calculate SSE\n",
    "sse = []\n",
    "K_range = range(1, 11)\n",
    "for k in K_range:\n",
    "    kmeans = KMeans(n_clusters=k, init='k-means++', random_state=42)\n",
    "    kmeans.fit(X)\n",
    "    sse.append(kmeans.inertia_)\n",
    "\n",
    "# Plot the Elbow\n",
    "plt.figure(figsize=(8, 5))\n",
    "plt.plot(K_range, sse, 'bo-')\n",
    "plt.xlabel('Number of clusters (k)')\n",
    "plt.ylabel('Inertia (SSE)')\n",
    "plt.title('The Elbow Method to Choose Optimal k')\n",
    "plt.grid(True)\n",
    "plt.show()\n"
   ]
  },
  {
   "cell_type": "markdown",
   "metadata": {},
   "source": [
    "The \"elbow\" typically appears at k=5"
   ]
  },
  {
   "cell_type": "code",
   "execution_count": 14,
   "metadata": {
    "executionInfo": {
     "elapsed": 15,
     "status": "ok",
     "timestamp": 1753607270801,
     "user": {
      "displayName": "Noha MoAmary",
      "userId": "07429745655130345740"
     },
     "user_tz": -180
    },
    "id": "wUS7ABXLIQ7g"
   },
   "outputs": [],
   "source": [
    "#Apply K-Means with Chosen k\n",
    "kmeans = KMeans(n_clusters=5, init='k-means++', random_state=42)\n",
    "y_kmeans = kmeans.fit_predict(X)"
   ]
  },
  {
   "cell_type": "code",
   "execution_count": 15,
   "metadata": {
    "executionInfo": {
     "elapsed": 37,
     "status": "ok",
     "timestamp": 1753607251241,
     "user": {
      "displayName": "Noha MoAmary",
      "userId": "07429745655130345740"
     },
     "user_tz": -180
    },
    "id": "bHt2u0mHIboy"
   },
   "outputs": [
    {
     "data": {
      "image/png": "[encoded data removed]",
      "text/plain": [
       "<Figure size 640x480 with 1 Axes>"
      ]
     },
     "metadata": {},
     "output_type": "display_data"
    }
   ],
   "source": [
    "colors = ['red', 'blue', 'green', 'cyan', 'magenta']\n",
    "\n",
    "# Plot each cluster using a scatter plot\n",
    "for i in range(5):  # Assuming we have 5 clusters\n",
    "    plt.scatter(\n",
    "        X.values[y_kmeans == i, 0],  # X values of data points in cluster i\n",
    "        X.values[y_kmeans == i, 1],  # Y values of data points in cluster i\n",
    "        s=60,                        # Size of points\n",
    "        c=colors[i],                # Color for the cluster\n",
    "        label=f'Cluster {i+1}'      # Label for legend\n",
    "    )\n",
    "\n",
    "# Plot the centroids of all clusters\n",
    "plt.scatter(\n",
    "    kmeans.cluster_centers_[:, 0],  # X coordinates of centroids\n",
    "    kmeans.cluster_centers_[:, 1],  # Y coordinates of centroids\n",
    "    s=200,                          # Size of centroid markers\n",
    "    c='yellow',                     # Color of centroids\n",
    "    marker='X',                     # Marker style\n",
    "    label='Centroids'              # Label for legend\n",
    ")\n",
    "\n",
    "plt.title('Customer Segments using KMeans Clustering')\n",
    "plt.xlabel('Annual Income (k$)')\n",
    "plt.ylabel('Spending Score (1-100)')\n",
    "plt.legend()  \n",
    "plt.grid(True)  \n",
    "plt.show()  "
   ]
  },
  {
   "cell_type": "code",
   "execution_count": 16,
   "metadata": {
    "id": "o68FRL0KIg6h"
   },
   "outputs": [
    {
     "name": "stdout",
     "output_type": "stream",
     "text": [
      "Inertia (SSE): 44448.45544793371\n"
     ]
    }
   ],
   "source": [
    "print(f\"Inertia (SSE): {kmeans.inertia_}\")\n"
   ]
  }
 ],
 "metadata": {
  "colab": {
   "provenance": []
  },
  "kaggle": {
   "accelerator": "none",
   "dataSources": [
    {
     "datasetId": 42674,
     "sourceId": 74935,
     "sourceType": "datasetVersion"
    }
   ],
   "dockerImageVersionId": 30558,
   "isGpuEnabled": false,
   "isInternetEnabled": true,
   "language": "python",
   "sourceType": "notebook"
  },
  "kernelspec": {
   "display_name": "Python 3",
   "language": "python",
   "name": "python3"
  },
  "language_info": {
   "codemirror_mode": {
    "name": "ipython",
    "version": 3
   },
   "file_extension": ".py",
   "mimetype": "text/x-python",
   "name": "python",
   "nbconvert_exporter": "python",
   "pygments_lexer": "ipython3",
   "version": "3.11.9"
  }
 },
 "nbformat": 4,
 "nbformat_minor": 0
}
