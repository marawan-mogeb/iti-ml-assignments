{
  "cells": [
    {
      "cell_type": "markdown",
      "metadata": {
        "id": "wZUW-j4FWU_R"
      },
      "source": [
        "## 1. <a name=\"1\">Read the dataset</a>\n",
        "\n",
        "\n",
        "First dowmload the data set from this link https://www.kaggle.com/fernandol/countries-of-the-world\n",
        "then import it in python."
      ]
    },
    {
      "cell_type": "code",
      "execution_count": 2,
      "metadata": {},
      "outputs": [],
      "source": [
        "import pandas as pd\n",
        "import numpy as np\n",
        "import matplotlib.pyplot as plt"
      ]
    },
    {
      "cell_type": "code",
      "execution_count": 3,
      "metadata": {
        "id": "sfkJvS5FWU_S"
      },
      "outputs": [
        {
          "name": "stdout",
          "output_type": "stream",
          "text": [
            "The shape of the dataset is: (227, 20)\n"
          ]
        }
      ],
      "source": [
        "#read the data\n",
        "\n",
        "data_path = r\"C:\\Users\\mogeb\\Downloads\\countries of the world.csv\"  #the path where you downloaded the data\n",
        "df = pd.read_csv(data_path)\n",
        "\n",
        "print('The shape of the dataset is:', df.shape)"
      ]
    },
    {
      "cell_type": "markdown",
      "metadata": {
        "id": "g7DCYrpgWU_S"
      },
      "source": [
        "## 2. <a name=\"2\">Data investigation</a>\n",
        "\n",
        "\n",
        "in this part you need to check the data quality and assess any issues in the data as:\n",
        "- null values in each column\n",
        "- each column has the proper data type\n",
        "- outliers\n",
        "- duplicate rows\n",
        "- distribution for each column (skewness)\n",
        "<br>\n",
        "\n",
        "**comment each issue you find**"
      ]
    },
    {
      "cell_type": "code",
      "execution_count": 4,
      "metadata": {
        "id": "M2clQ2HSWU_S"
      },
      "outputs": [
        {
          "name": "stdout",
          "output_type": "stream",
          "text": [
            "<class 'pandas.core.frame.DataFrame'>\n",
            "RangeIndex: 227 entries, 0 to 226\n",
            "Data columns (total 20 columns):\n",
            " #   Column                              Non-Null Count  Dtype  \n",
            "---  ------                              --------------  -----  \n",
            " 0   Country                             227 non-null    object \n",
            " 1   Region                              227 non-null    object \n",
            " 2   Population                          227 non-null    int64  \n",
            " 3   Area (sq. mi.)                      227 non-null    int64  \n",
            " 4   Pop. Density (per sq. mi.)          227 non-null    object \n",
            " 5   Coastline (coast/area ratio)        227 non-null    object \n",
            " 6   Net migration                       224 non-null    object \n",
            " 7   Infant mortality (per 1000 births)  224 non-null    object \n",
            " 8   GDP ($ per capita)                  226 non-null    float64\n",
            " 9   Literacy (%)                        209 non-null    object \n",
            " 10  Phones (per 1000)                   223 non-null    object \n",
            " 11  Arable (%)                          225 non-null    object \n",
            " 12  Crops (%)                           225 non-null    object \n",
            " 13  Other (%)                           225 non-null    object \n",
            " 14  Climate                             205 non-null    object \n",
            " 15  Birthrate                           224 non-null    object \n",
            " 16  Deathrate                           223 non-null    object \n",
            " 17  Agriculture                         212 non-null    object \n",
            " 18  Industry                            211 non-null    object \n",
            " 19  Service                             212 non-null    object \n",
            "dtypes: float64(1), int64(2), object(17)\n",
            "memory usage: 35.6+ KB\n"
          ]
        }
      ],
      "source": [
        "# Let's see the data types and non-null values for each column\n",
        "df.info()"
      ]
    },
    {
      "cell_type": "code",
      "execution_count": 5,
      "metadata": {
        "id": "CAMlzk8AWU_T"
      },
      "outputs": [
        {
          "data": {
            "text/plain": [
              "Country                               0.00\n",
              "Region                                0.00\n",
              "Population                            0.00\n",
              "Area (sq. mi.)                        0.00\n",
              "Pop. Density (per sq. mi.)            0.00\n",
              "Coastline (coast/area ratio)          0.00\n",
              "Net migration                         1.32\n",
              "Infant mortality (per 1000 births)    1.32\n",
              "GDP ($ per capita)                    0.44\n",
              "Literacy (%)                          7.93\n",
              "Phones (per 1000)                     1.76\n",
              "Arable (%)                            0.88\n",
              "Crops (%)                             0.88\n",
              "Other (%)                             0.88\n",
              "Climate                               9.69\n",
              "Birthrate                             1.32\n",
              "Deathrate                             1.76\n",
              "Agriculture                           6.61\n",
              "Industry                              7.05\n",
              "Service                               6.61\n",
              "dtype: float64"
            ]
          },
          "execution_count": 5,
          "metadata": {},
          "output_type": "execute_result"
        }
      ],
      "source": [
        "#calculate the percentage of missing values (NaNs) in each column and round it to 2 decimal places.\n",
        "round(df.isnull().sum(axis=0)*100/df.shape[0],2)"
      ]
    },
    {
      "cell_type": "code",
      "execution_count": 6,
      "metadata": {
        "id": "Mb78ElCpWU_T"
      },
      "outputs": [
        {
          "data": {
            "text/html": [
              "<div>\n",
              "<style scoped>\n",
              "    .dataframe tbody tr th:only-of-type {\n",
              "        vertical-align: middle;\n",
              "    }\n",
              "\n",
              "    .dataframe tbody tr th {\n",
              "        vertical-align: top;\n",
              "    }\n",
              "\n",
              "    .dataframe thead th {\n",
              "        text-align: right;\n",
              "    }\n",
              "</style>\n",
              "<table border=\"1\" class=\"dataframe\">\n",
              "  <thead>\n",
              "    <tr style=\"text-align: right;\">\n",
              "      <th></th>\n",
              "      <th>Population</th>\n",
              "      <th>Area (sq. mi.)</th>\n",
              "      <th>GDP ($ per capita)</th>\n",
              "    </tr>\n",
              "  </thead>\n",
              "  <tbody>\n",
              "    <tr>\n",
              "      <th>count</th>\n",
              "      <td>2.270000e+02</td>\n",
              "      <td>2.270000e+02</td>\n",
              "      <td>226.000000</td>\n",
              "    </tr>\n",
              "    <tr>\n",
              "      <th>mean</th>\n",
              "      <td>2.874028e+07</td>\n",
              "      <td>5.982270e+05</td>\n",
              "      <td>9689.823009</td>\n",
              "    </tr>\n",
              "    <tr>\n",
              "      <th>std</th>\n",
              "      <td>1.178913e+08</td>\n",
              "      <td>1.790282e+06</td>\n",
              "      <td>10049.138513</td>\n",
              "    </tr>\n",
              "    <tr>\n",
              "      <th>min</th>\n",
              "      <td>7.026000e+03</td>\n",
              "      <td>2.000000e+00</td>\n",
              "      <td>500.000000</td>\n",
              "    </tr>\n",
              "    <tr>\n",
              "      <th>25%</th>\n",
              "      <td>4.376240e+05</td>\n",
              "      <td>4.647500e+03</td>\n",
              "      <td>1900.000000</td>\n",
              "    </tr>\n",
              "    <tr>\n",
              "      <th>50%</th>\n",
              "      <td>4.786994e+06</td>\n",
              "      <td>8.660000e+04</td>\n",
              "      <td>5550.000000</td>\n",
              "    </tr>\n",
              "    <tr>\n",
              "      <th>75%</th>\n",
              "      <td>1.749777e+07</td>\n",
              "      <td>4.418110e+05</td>\n",
              "      <td>15700.000000</td>\n",
              "    </tr>\n",
              "    <tr>\n",
              "      <th>max</th>\n",
              "      <td>1.313974e+09</td>\n",
              "      <td>1.707520e+07</td>\n",
              "      <td>55100.000000</td>\n",
              "    </tr>\n",
              "  </tbody>\n",
              "</table>\n",
              "</div>"
            ],
            "text/plain": [
              "         Population  Area (sq. mi.)  GDP ($ per capita)\n",
              "count  2.270000e+02    2.270000e+02          226.000000\n",
              "mean   2.874028e+07    5.982270e+05         9689.823009\n",
              "std    1.178913e+08    1.790282e+06        10049.138513\n",
              "min    7.026000e+03    2.000000e+00          500.000000\n",
              "25%    4.376240e+05    4.647500e+03         1900.000000\n",
              "50%    4.786994e+06    8.660000e+04         5550.000000\n",
              "75%    1.749777e+07    4.418110e+05        15700.000000\n",
              "max    1.313974e+09    1.707520e+07        55100.000000"
            ]
          },
          "execution_count": 6,
          "metadata": {},
          "output_type": "execute_result"
        }
      ],
      "source": [
        "# This will print basic statistics for numerical columns\n",
        "df.describe()"
      ]
    },
    {
      "cell_type": "code",
      "execution_count": 7,
      "metadata": {},
      "outputs": [
        {
          "data": {
            "text/html": [
              "<div>\n",
              "<style scoped>\n",
              "    .dataframe tbody tr th:only-of-type {\n",
              "        vertical-align: middle;\n",
              "    }\n",
              "\n",
              "    .dataframe tbody tr th {\n",
              "        vertical-align: top;\n",
              "    }\n",
              "\n",
              "    .dataframe thead th {\n",
              "        text-align: right;\n",
              "    }\n",
              "</style>\n",
              "<table border=\"1\" class=\"dataframe\">\n",
              "  <thead>\n",
              "    <tr style=\"text-align: right;\">\n",
              "      <th></th>\n",
              "      <th>Country</th>\n",
              "      <th>Region</th>\n",
              "      <th>Population</th>\n",
              "      <th>Area (sq. mi.)</th>\n",
              "      <th>Pop. Density (per sq. mi.)</th>\n",
              "      <th>Coastline (coast/area ratio)</th>\n",
              "      <th>Net migration</th>\n",
              "      <th>Infant mortality (per 1000 births)</th>\n",
              "      <th>GDP ($ per capita)</th>\n",
              "      <th>Literacy (%)</th>\n",
              "      <th>Phones (per 1000)</th>\n",
              "      <th>Arable (%)</th>\n",
              "      <th>Crops (%)</th>\n",
              "      <th>Other (%)</th>\n",
              "      <th>Climate</th>\n",
              "      <th>Birthrate</th>\n",
              "      <th>Deathrate</th>\n",
              "      <th>Agriculture</th>\n",
              "      <th>Industry</th>\n",
              "      <th>Service</th>\n",
              "    </tr>\n",
              "  </thead>\n",
              "  <tbody>\n",
              "    <tr>\n",
              "      <th>0</th>\n",
              "      <td>Afghanistan</td>\n",
              "      <td>ASIA (EX. NEAR EAST)</td>\n",
              "      <td>31056997</td>\n",
              "      <td>647500</td>\n",
              "      <td>48,0</td>\n",
              "      <td>0,00</td>\n",
              "      <td>23,06</td>\n",
              "      <td>163,07</td>\n",
              "      <td>700.0</td>\n",
              "      <td>36,0</td>\n",
              "      <td>3,2</td>\n",
              "      <td>12,13</td>\n",
              "      <td>0,22</td>\n",
              "      <td>87,65</td>\n",
              "      <td>1</td>\n",
              "      <td>46,6</td>\n",
              "      <td>20,34</td>\n",
              "      <td>0,38</td>\n",
              "      <td>0,24</td>\n",
              "      <td>0,38</td>\n",
              "    </tr>\n",
              "    <tr>\n",
              "      <th>1</th>\n",
              "      <td>Albania</td>\n",
              "      <td>EASTERN EUROPE</td>\n",
              "      <td>3581655</td>\n",
              "      <td>28748</td>\n",
              "      <td>124,6</td>\n",
              "      <td>1,26</td>\n",
              "      <td>-4,93</td>\n",
              "      <td>21,52</td>\n",
              "      <td>4500.0</td>\n",
              "      <td>86,5</td>\n",
              "      <td>71,2</td>\n",
              "      <td>21,09</td>\n",
              "      <td>4,42</td>\n",
              "      <td>74,49</td>\n",
              "      <td>3</td>\n",
              "      <td>15,11</td>\n",
              "      <td>5,22</td>\n",
              "      <td>0,232</td>\n",
              "      <td>0,188</td>\n",
              "      <td>0,579</td>\n",
              "    </tr>\n",
              "    <tr>\n",
              "      <th>2</th>\n",
              "      <td>Algeria</td>\n",
              "      <td>NORTHERN AFRICA</td>\n",
              "      <td>32930091</td>\n",
              "      <td>2381740</td>\n",
              "      <td>13,8</td>\n",
              "      <td>0,04</td>\n",
              "      <td>-0,39</td>\n",
              "      <td>31</td>\n",
              "      <td>6000.0</td>\n",
              "      <td>70,0</td>\n",
              "      <td>78,1</td>\n",
              "      <td>3,22</td>\n",
              "      <td>0,25</td>\n",
              "      <td>96,53</td>\n",
              "      <td>1</td>\n",
              "      <td>17,14</td>\n",
              "      <td>4,61</td>\n",
              "      <td>0,101</td>\n",
              "      <td>0,6</td>\n",
              "      <td>0,298</td>\n",
              "    </tr>\n",
              "    <tr>\n",
              "      <th>3</th>\n",
              "      <td>American Samoa</td>\n",
              "      <td>OCEANIA</td>\n",
              "      <td>57794</td>\n",
              "      <td>199</td>\n",
              "      <td>290,4</td>\n",
              "      <td>58,29</td>\n",
              "      <td>-20,71</td>\n",
              "      <td>9,27</td>\n",
              "      <td>8000.0</td>\n",
              "      <td>97,0</td>\n",
              "      <td>259,5</td>\n",
              "      <td>10</td>\n",
              "      <td>15</td>\n",
              "      <td>75</td>\n",
              "      <td>2</td>\n",
              "      <td>22,46</td>\n",
              "      <td>3,27</td>\n",
              "      <td>NaN</td>\n",
              "      <td>NaN</td>\n",
              "      <td>NaN</td>\n",
              "    </tr>\n",
              "    <tr>\n",
              "      <th>4</th>\n",
              "      <td>Andorra</td>\n",
              "      <td>WESTERN EUROPE</td>\n",
              "      <td>71201</td>\n",
              "      <td>468</td>\n",
              "      <td>152,1</td>\n",
              "      <td>0,00</td>\n",
              "      <td>6,6</td>\n",
              "      <td>4,05</td>\n",
              "      <td>19000.0</td>\n",
              "      <td>100,0</td>\n",
              "      <td>497,2</td>\n",
              "      <td>2,22</td>\n",
              "      <td>0</td>\n",
              "      <td>97,78</td>\n",
              "      <td>3</td>\n",
              "      <td>8,71</td>\n",
              "      <td>6,25</td>\n",
              "      <td>NaN</td>\n",
              "      <td>NaN</td>\n",
              "      <td>NaN</td>\n",
              "    </tr>\n",
              "  </tbody>\n",
              "</table>\n",
              "</div>"
            ],
            "text/plain": [
              "           Country                               Region  Population  \\\n",
              "0     Afghanistan         ASIA (EX. NEAR EAST)             31056997   \n",
              "1         Albania   EASTERN EUROPE                          3581655   \n",
              "2         Algeria   NORTHERN AFRICA                        32930091   \n",
              "3  American Samoa   OCEANIA                                   57794   \n",
              "4         Andorra   WESTERN EUROPE                            71201   \n",
              "\n",
              "   Area (sq. mi.) Pop. Density (per sq. mi.) Coastline (coast/area ratio)  \\\n",
              "0          647500                       48,0                         0,00   \n",
              "1           28748                      124,6                         1,26   \n",
              "2         2381740                       13,8                         0,04   \n",
              "3             199                      290,4                        58,29   \n",
              "4             468                      152,1                         0,00   \n",
              "\n",
              "  Net migration Infant mortality (per 1000 births)  GDP ($ per capita)  \\\n",
              "0         23,06                             163,07               700.0   \n",
              "1         -4,93                              21,52              4500.0   \n",
              "2         -0,39                                 31              6000.0   \n",
              "3        -20,71                               9,27              8000.0   \n",
              "4           6,6                               4,05             19000.0   \n",
              "\n",
              "  Literacy (%) Phones (per 1000) Arable (%) Crops (%) Other (%) Climate  \\\n",
              "0         36,0               3,2      12,13      0,22     87,65       1   \n",
              "1         86,5              71,2      21,09      4,42     74,49       3   \n",
              "2         70,0              78,1       3,22      0,25     96,53       1   \n",
              "3         97,0             259,5         10        15        75       2   \n",
              "4        100,0             497,2       2,22         0     97,78       3   \n",
              "\n",
              "  Birthrate Deathrate Agriculture Industry Service  \n",
              "0      46,6     20,34        0,38     0,24    0,38  \n",
              "1     15,11      5,22       0,232    0,188   0,579  \n",
              "2     17,14      4,61       0,101      0,6   0,298  \n",
              "3     22,46      3,27         NaN      NaN     NaN  \n",
              "4      8,71      6,25         NaN      NaN     NaN  "
            ]
          },
          "execution_count": 7,
          "metadata": {},
          "output_type": "execute_result"
        }
      ],
      "source": [
        "df.head()"
      ]
    },
    {
      "cell_type": "markdown",
      "metadata": {
        "id": "sYoW28BfWU_T"
      },
      "source": [
        "## 3. <a name=\"3\">Data preprocessing</a>\n",
        "\n"
      ]
    },
    {
      "cell_type": "markdown",
      "metadata": {
        "id": "WDuRybeuWU_U"
      },
      "source": [
        "### Define below all the issues that you had found in the previous part\n",
        "1-Missing values in several columns<br>\n",
        "2-Some numerical columns use commas as decimal separators<br>\n",
        "3-Some categorical columns have extra whitespace<br>"
      ]
    },
    {
      "cell_type": "code",
      "execution_count": null,
      "metadata": {
        "id": "mzyavOadWU_U"
      },
      "outputs": [],
      "source": [
        "#make a copy for the original dataset\n",
        "df_copy=df.copy()"
      ]
    },
    {
      "cell_type": "markdown",
      "metadata": {
        "id": "V02JSYgwWU_U"
      },
      "source": [
        "### for each issue adapt this methodology\n",
        "- start by defining the solution\n",
        "- apply this solution onn the data\n",
        "- test the solution to make sure that you have solved the issue"
      ]
    },
    {
      "cell_type": "markdown",
      "metadata": {
        "id": "3GWAQ7_3WU_U"
      },
      "source": [
        "**First issue**"
      ]
    },
    {
      "cell_type": "code",
      "execution_count": 8,
      "metadata": {
        "id": "cooysEFeWU_U"
      },
      "outputs": [],
      "source": [
        "#solution\n",
        "num_cols = df.select_dtypes(include=['float64', 'int64']).columns\n",
        "df[num_cols] = df[num_cols].fillna(df[num_cols].median())\n",
        "\n",
        "# For categorical columns, fill with mode\n",
        "cat_cols = df.select_dtypes(include=['object']).columns\n",
        "df[cat_cols] = df[cat_cols].fillna(df[cat_cols].mode().iloc[0])"
      ]
    },
    {
      "cell_type": "code",
      "execution_count": 10,
      "metadata": {
        "id": "vab2GavvWU_V"
      },
      "outputs": [
        {
          "name": "stdout",
          "output_type": "stream",
          "text": [
            "Missing values after imputation:\n",
            "\n",
            "Country                               0\n",
            "Region                                0\n",
            "Population                            0\n",
            "Area (sq. mi.)                        0\n",
            "Pop. Density (per sq. mi.)            0\n",
            "Coastline (coast/area ratio)          0\n",
            "Net migration                         0\n",
            "Infant mortality (per 1000 births)    0\n",
            "GDP ($ per capita)                    0\n",
            "Literacy (%)                          0\n",
            "Phones (per 1000)                     0\n",
            "Arable (%)                            0\n",
            "Crops (%)                             0\n",
            "Other (%)                             0\n",
            "Climate                               0\n",
            "Birthrate                             0\n",
            "Deathrate                             0\n",
            "Agriculture                           0\n",
            "Industry                              0\n",
            "Service                               0\n",
            "dtype: int64\n"
          ]
        }
      ],
      "source": [
        "#test\n",
        "print(\"Missing values after imputation:\\n\")\n",
        "print(df.isnull().sum())"
      ]
    },
    {
      "cell_type": "markdown",
      "metadata": {
        "id": "JbUUGyzfWU_V"
      },
      "source": [
        "**Second issue**"
      ]
    },
    {
      "cell_type": "code",
      "execution_count": 11,
      "metadata": {
        "id": "cr91D6H0WU_V"
      },
      "outputs": [],
      "source": [
        "#solution\n",
        "cols_to_clean = ['Pop. Density (per sq. mi.)', 'Coastline (coast/area ratio)', \n",
        "                'Net migration', 'Infant mortality (per 1000 births)', \n",
        "                'Literacy (%)', 'Phones (per 1000)', 'Arable (%)', \n",
        "                'Crops (%)', 'Other (%)', 'Birthrate', 'Deathrate']\n",
        "\n",
        "for col in cols_to_clean:\n",
        "    if col in df.columns:\n",
        "        df[col] = df[col].str.replace(',', '.').astype(float)"
      ]
    },
    {
      "cell_type": "code",
      "execution_count": 12,
      "metadata": {
        "id": "1V5fHyQLWU_V"
      },
      "outputs": [
        {
          "name": "stdout",
          "output_type": "stream",
          "text": [
            "Sample of cleaned data:\n",
            "   Pop. Density (per sq. mi.)  Coastline (coast/area ratio)  Net migration  \\\n",
            "0                        48.0                          0.00          23.06   \n",
            "1                       124.6                          1.26          -4.93   \n",
            "2                        13.8                          0.04          -0.39   \n",
            "3                       290.4                         58.29         -20.71   \n",
            "4                       152.1                          0.00           6.60   \n",
            "\n",
            "   Infant mortality (per 1000 births)  Literacy (%)  Phones (per 1000)  \\\n",
            "0                              163.07          36.0                3.2   \n",
            "1                               21.52          86.5               71.2   \n",
            "2                               31.00          70.0               78.1   \n",
            "3                                9.27          97.0              259.5   \n",
            "4                                4.05         100.0              497.2   \n",
            "\n",
            "   Arable (%)  Crops (%)  Other (%)  Birthrate  Deathrate  \n",
            "0       12.13       0.22      87.65      46.60      20.34  \n",
            "1       21.09       4.42      74.49      15.11       5.22  \n",
            "2        3.22       0.25      96.53      17.14       4.61  \n",
            "3       10.00      15.00      75.00      22.46       3.27  \n",
            "4        2.22       0.00      97.78       8.71       6.25  \n"
          ]
        }
      ],
      "source": [
        "#test\n",
        "print(\"Sample of cleaned data:\")\n",
        "print(df[cols_to_clean].head())"
      ]
    },
    {
      "cell_type": "markdown",
      "metadata": {
        "id": "HN0FHkb5VWNN"
      },
      "source": [
        "**third issue**"
      ]
    },
    {
      "cell_type": "code",
      "execution_count": 13,
      "metadata": {
        "id": "ifwwsfyAVWNO"
      },
      "outputs": [],
      "source": [
        "#solution\n",
        "df['Country'] = df['Country'].str.strip()\n",
        "df['Region'] = df['Region'].str.strip()"
      ]
    },
    {
      "cell_type": "code",
      "execution_count": 15,
      "metadata": {
        "id": "JE29EnFwVWNO"
      },
      "outputs": [
        {
          "name": "stdout",
          "output_type": "stream",
          "text": [
            "ample of cleaned categorical data:\n",
            "          Country                Region\n",
            "0     Afghanistan  ASIA (EX. NEAR EAST)\n",
            "1         Albania        EASTERN EUROPE\n",
            "2         Algeria       NORTHERN AFRICA\n",
            "3  American Samoa               OCEANIA\n",
            "4         Andorra        WESTERN EUROPE\n"
          ]
        }
      ],
      "source": [
        "#test\n",
        "print(\"ample of cleaned categorical data:\")\n",
        "print(df[['Country', 'Region']].head())"
      ]
    },
    {
      "cell_type": "code",
      "execution_count": null,
      "metadata": {
        "id": "XxmPtW3zVeI3"
      },
      "outputs": [],
      "source": []
    },
    {
      "cell_type": "code",
      "execution_count": null,
      "metadata": {
        "id": "57HTSHxTVeET"
      },
      "outputs": [],
      "source": []
    },
    {
      "cell_type": "markdown",
      "metadata": {
        "id": "o_OX5loqWU_W"
      },
      "source": [
        "## 4. <a name=\"4\">Features transformation</a>\n"
      ]
    },
    {
      "cell_type": "markdown",
      "metadata": {
        "id": "y5xxd9dCWU_W"
      },
      "source": [
        "*What is the feature scaling technique that would use and why?* <br>\n",
        "*return to this section again and try another technique and see how that will impact your result*<br>\n",
        "for more details on different methods for scaling check these links\n",
        "- https://scikit-learn.org/stable/modules/preprocessing.html#preprocessing\n",
        "- https://scikit-learn.org/stable/modules/classes.html#module-sklearn.preprocessing\n",
        "- https://www.analyticsvidhya.com/blog/2020/07/types-of-feature-transformation-and-scaling/"
      ]
    },
    {
      "cell_type": "code",
      "execution_count": 16,
      "metadata": {
        "id": "Dci2NDZUWU_W"
      },
      "outputs": [],
      "source": [
        "from sklearn import preprocessing"
      ]
    },
    {
      "cell_type": "code",
      "execution_count": 18,
      "metadata": {
        "id": "QtovllulWU_W"
      },
      "outputs": [],
      "source": [
        "features = ['Population', 'Area (sq. mi.)', 'Pop. Density (per sq. mi.)', \n",
        "            'GDP ($ per capita)', 'Literacy (%)']\n",
        "\n",
        "\n",
        "scaler = preprocessing.StandardScaler()\n",
        "X = df[features]\n",
        "X_scaled = scaler.fit_transform(X)"
      ]
    },
    {
      "cell_type": "code",
      "execution_count": 19,
      "metadata": {
        "id": "5Noys2b4VoB4"
      },
      "outputs": [
        {
          "name": "stdout",
          "output_type": "stream",
          "text": [
            "Scaled features sample:\n",
            "[[ 0.01969468  0.02758332 -0.19984434 -0.89639423 -2.48331723]\n",
            " [-0.21387688 -0.31879748 -0.15360296 -0.51671798  0.12283363]\n",
            " [ 0.03561811  0.99842051 -0.22048996 -0.36684578 -0.72868101]\n",
            " [-0.24383369 -0.33477937 -0.05351391 -0.16701618  0.66470658]\n",
            " [-0.24371972 -0.33462878 -0.13700194  0.93204665  0.81952742]]\n"
          ]
        }
      ],
      "source": [
        "print(\"Scaled features sample:\")\n",
        "print(X_scaled[:5])"
      ]
    },
    {
      "cell_type": "markdown",
      "metadata": {
        "id": "1Ua_72QYWU_W"
      },
      "source": [
        "## 5. <a name=\"5\">Training and hyperparamter tuning</a>\n",
        "\n"
      ]
    },
    {
      "cell_type": "markdown",
      "metadata": {
        "id": "i20iCmfAWU_W"
      },
      "source": [
        "Before we start the training process we need to specify 3 paramters:<br>\n",
        "1- Linkage criteria :\n",
        "\n",
        "The linkage criterion determines the distance between two clusters\n",
        "\n",
        "    - Complete-Linkage Clustering\n",
        "    - Single-Linkage Clustering\n",
        "    - Average-Linkage Clustering\n",
        "    - word Linkage Clustering\n",
        "\n",
        "2- Distance function:\n",
        "\n",
        "    - Euclidean Distance\n",
        "    - Manhattan Distance\n",
        "    - Mahalanobis distance\n",
        "\n",
        "3- Number of clusters\n"
      ]
    },
    {
      "cell_type": "markdown",
      "metadata": {
        "id": "NKfnBS-XWU_W"
      },
      "source": [
        "### *Number of clusters*\n",
        "Use Dendograms to specify the optimum number of clusters\n",
        "- Compare how changing linkage criteria or distance function would affect the optimum number of clusters\n",
        "- you can use silhouette_score or any other evalution method to help you determine the optimum number of clusters\n",
        "https://scikit-learn.org/stable/modules/generated/sklearn.metrics.silhouette_score.html"
      ]
    },
    {
      "cell_type": "code",
      "execution_count": 67,
      "metadata": {
        "id": "jMi5-iJzWU_W"
      },
      "outputs": [
        {
          "data": {
            "image/png": "[encoded data removed]",
            "text/plain": [
              "<Figure size 1200x900 with 1 Axes>"
            ]
          },
          "metadata": {},
          "output_type": "display_data"
        }
      ],
      "source": [
        "import scipy.cluster.hierarchy as shc\n",
        "\n",
        "plt.figure(figsize=(12, 9))\n",
        "plt.title(\"Counters Dendograms\")\n",
        "dend = shc.dendrogram(shc.linkage(y=X_scaled , method= 'ward', metric='euclidean')) #fill y with your dataframe\n",
        "                                                                                      #and method with linkage criteria\n",
        "plt.show()                                                                                     #and metric with distance function"
      ]
    },
    {
      "cell_type": "code",
      "execution_count": 68,
      "metadata": {
        "id": "dU75480SWU_X"
      },
      "outputs": [
        {
          "name": "stdout",
          "output_type": "stream",
          "text": [
            "For n_clusters = 2, the silhouette score is 0.73\n",
            "For n_clusters = 3, the silhouette score is 0.41\n",
            "For n_clusters = 4, the silhouette score is 0.44\n",
            "For n_clusters = 5, the silhouette score is 0.45\n",
            "For n_clusters = 6, the silhouette score is 0.47\n",
            "For n_clusters = 7, the silhouette score is 0.48\n",
            "For n_clusters = 8, the silhouette score is 0.47\n",
            "For n_clusters = 9, the silhouette score is 0.43\n"
          ]
        }
      ],
      "source": [
        "#training\n",
        "from sklearn.cluster import AgglomerativeClustering\n",
        "from sklearn.metrics import silhouette_score\n",
        "\n",
        "range_n_clusters = list(range(2,10))\n",
        "\n",
        "for n_clusters in range_n_clusters:\n",
        "    clusterer = AgglomerativeClustering(n_clusters=n_clusters, metric='euclidean', linkage='ward')\n",
        "    cluster_labels = clusterer.fit_predict(X_scaled)\n",
        "    silhouette_avg = silhouette_score(X_scaled, cluster_labels)\n",
        "    print(f\"For n_clusters = {n_clusters}, the silhouette score is {silhouette_avg:.2f}\")\n"
      ]
    },
    {
      "cell_type": "code",
      "execution_count": 69,
      "metadata": {},
      "outputs": [
        {
          "data": {
            "image/png": "[encoded data removed]",
            "text/plain": [
              "<Figure size 1000x600 with 2 Axes>"
            ]
          },
          "metadata": {},
          "output_type": "display_data"
        },
        {
          "name": "stdout",
          "output_type": "stream",
          "text": [
            "\n",
            "Cluster characteristics:\n",
            "           Population  Area (sq. mi.)  Pop. Density (per sq. mi.)  \\\n",
            "Cluster                                                             \n",
            "0        1.172518e+07    8.721685e+04                  625.501818   \n",
            "1        1.365558e+08    1.057802e+07                   13.480000   \n",
            "2        1.686925e+07    4.201986e+05                  118.089655   \n",
            "3        2.428340e+05    1.500000e+01                16227.250000   \n",
            "4        1.204663e+09    6.442275e+06                  235.050000   \n",
            "5        1.765396e+07    3.506992e+05                  105.334043   \n",
            "\n",
            "         GDP ($ per capita)  Literacy (%)  \n",
            "Cluster                                    \n",
            "0              23574.545455     96.692727  \n",
            "1              22620.000000     96.000000  \n",
            "2               5584.913793     90.945690  \n",
            "3              23200.000000     96.750000  \n",
            "4               3950.000000     75.200000  \n",
            "5               1778.723404     51.138298  \n"
          ]
        }
      ],
      "source": [
        "optimal_clusters = 6\n",
        "\n",
        "# Perform clustering\n",
        "clusterer = AgglomerativeClustering(n_clusters=optimal_clusters, metric='euclidean', linkage='ward')\n",
        "df['Cluster'] = clusterer.fit_predict(X_scaled)\n",
        "\n",
        "# Visualize clusters\n",
        "plt.figure(figsize=(10, 6))\n",
        "plt.scatter(df['GDP ($ per capita)'], df['Literacy (%)'], c=df['Cluster'], cmap='viridis')\n",
        "plt.xlabel('GDP ($ per capita)')\n",
        "plt.ylabel('Literacy (%)')\n",
        "plt.title('Hierarchical Clustering Results')\n",
        "plt.colorbar(label='Cluster')\n",
        "plt.show()\n",
        "\n",
        "# Analyze clusters\n",
        "print(\"\\nCluster characteristics:\")\n",
        "print(df.groupby('Cluster')[features].mean())"
      ]
    }
  ],
  "metadata": {
    "colab": {
      "collapsed_sections": [
        "o_OX5loqWU_W"
      ],
      "provenance": []
    },
    "kernelspec": {
      "display_name": "Python 3",
      "name": "python3"
    },
    "language_info": {
      "codemirror_mode": {
        "name": "ipython",
        "version": 3
      },
      "file_extension": ".py",
      "mimetype": "text/x-python",
      "name": "python",
      "nbconvert_exporter": "python",
      "pygments_lexer": "ipython3",
      "version": "3.11.9"
    }
  },
  "nbformat": 4,
  "nbformat_minor": 0
}
